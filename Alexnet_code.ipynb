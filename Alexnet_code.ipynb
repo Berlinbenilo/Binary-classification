{
 "cells": [
  {
   "cell_type": "markdown",
   "metadata": {},
   "source": [
    "# Import packages"
   ]
  },
  {
   "cell_type": "code",
   "execution_count": 1,
   "metadata": {},
   "outputs": [],
   "source": [
    "import keras\n",
    "import tensorflow as tf\n",
    "from sklearn.metrics import confusion_matrix\n",
    "from keras.preprocessing import image\n",
    "from keras import models\n",
    "from keras import layers\n",
    "from keras import optimizers\n",
    "from keras import applications\n",
    "from keras.optimizers import Adam\n",
    "from keras.models import Sequential, Model \n",
    "from keras.layers import Dropout, Flatten, Dense, GlobalAveragePooling2D,Conv2D,MaxPooling2D,BatchNormalization\n",
    "from keras import backend as k \n",
    "from keras.callbacks import ModelCheckpoint, LearningRateScheduler, TensorBoard, EarlyStopping\n",
    "from tqdm import tqdm\n",
    "from keras.optimizers import SGD\n",
    "from sklearn.model_selection import train_test_split\n",
    "from tensorflow.keras.utils import to_categorical\n",
    "from sklearn.preprocessing import LabelEncoder\n",
    "from keras.utils import np_utils\n",
    "\n",
    "from keras import backend as K\n",
    "from keras.layers import Activation,Dense"
   ]
  },
  {
   "cell_type": "code",
   "execution_count": 2,
   "metadata": {},
   "outputs": [
    {
     "name": "stdout",
     "output_type": "stream",
     "text": [
      "['cancer', 'non-cancer']\n"
     ]
    }
   ],
   "source": [
    "import numpy as np\n",
    "import pandas as pd\n",
    "import matplotlib.pyplot as plt\n",
    "import os\n",
    "\n",
    "dataset_path = os.listdir('train')\n",
    "types = os.listdir('train')\n",
    "print(types)"
   ]
  },
  {
   "cell_type": "code",
   "execution_count": 3,
   "metadata": {},
   "outputs": [
    {
     "name": "stdout",
     "output_type": "stream",
     "text": [
      "Types of data 2\n"
     ]
    }
   ],
   "source": [
    "print(\"Types of data\",len(types))"
   ]
  },
  {
   "cell_type": "markdown",
   "metadata": {},
   "source": [
    "# Image preprocessing"
   ]
  },
  {
   "cell_type": "code",
   "execution_count": 4,
   "metadata": {},
   "outputs": [],
   "source": [
    "oral=[]\n",
    "for item in dataset_path:\n",
    "    folder = os.listdir('train'+'/'+item)\n",
    "    for file2 in folder:\n",
    "        oral.append((item,str('train'+'/'+item)+'/'+file2))\n"
   ]
  },
  {
   "cell_type": "code",
   "execution_count": 5,
   "metadata": {
    "scrolled": true
   },
   "outputs": [
    {
     "data": {
      "text/html": [
       "<div>\n",
       "<style scoped>\n",
       "    .dataframe tbody tr th:only-of-type {\n",
       "        vertical-align: middle;\n",
       "    }\n",
       "\n",
       "    .dataframe tbody tr th {\n",
       "        vertical-align: top;\n",
       "    }\n",
       "\n",
       "    .dataframe thead th {\n",
       "        text-align: right;\n",
       "    }\n",
       "</style>\n",
       "<table border=\"1\" class=\"dataframe\">\n",
       "  <thead>\n",
       "    <tr style=\"text-align: right;\">\n",
       "      <th></th>\n",
       "      <th>cancer type</th>\n",
       "      <th>image</th>\n",
       "    </tr>\n",
       "  </thead>\n",
       "  <tbody>\n",
       "    <tr>\n",
       "      <th>0</th>\n",
       "      <td>cancer</td>\n",
       "      <td>train/cancer/01960a64-cfe8-444d-bbc5-575c15389...</td>\n",
       "    </tr>\n",
       "    <tr>\n",
       "      <th>1</th>\n",
       "      <td>cancer</td>\n",
       "      <td>train/cancer/01960a64-cfe8-444d-bbc5-575c15389...</td>\n",
       "    </tr>\n",
       "    <tr>\n",
       "      <th>2</th>\n",
       "      <td>cancer</td>\n",
       "      <td>train/cancer/01960a64-cfe8-444d-bbc5-575c15389...</td>\n",
       "    </tr>\n",
       "    <tr>\n",
       "      <th>3</th>\n",
       "      <td>cancer</td>\n",
       "      <td>train/cancer/01960a64-cfe8-444d-bbc5-575c15389...</td>\n",
       "    </tr>\n",
       "    <tr>\n",
       "      <th>4</th>\n",
       "      <td>cancer</td>\n",
       "      <td>train/cancer/01960a64-cfe8-444d-bbc5-575c15389...</td>\n",
       "    </tr>\n",
       "  </tbody>\n",
       "</table>\n",
       "</div>"
      ],
      "text/plain": [
       "  cancer type                                              image\n",
       "0      cancer  train/cancer/01960a64-cfe8-444d-bbc5-575c15389...\n",
       "1      cancer  train/cancer/01960a64-cfe8-444d-bbc5-575c15389...\n",
       "2      cancer  train/cancer/01960a64-cfe8-444d-bbc5-575c15389...\n",
       "3      cancer  train/cancer/01960a64-cfe8-444d-bbc5-575c15389...\n",
       "4      cancer  train/cancer/01960a64-cfe8-444d-bbc5-575c15389..."
      ]
     },
     "execution_count": 5,
     "metadata": {},
     "output_type": "execute_result"
    }
   ],
   "source": [
    "df = pd.DataFrame(data=oral,columns=['cancer type','image'])\n",
    "df.head()"
   ]
  },
  {
   "cell_type": "code",
   "execution_count": 6,
   "metadata": {},
   "outputs": [
    {
     "name": "stderr",
     "output_type": "stream",
     "text": [
      "C:\\ProgramData\\Anaconda3\\lib\\site-packages\\seaborn\\_decorators.py:36: FutureWarning: Pass the following variable as a keyword arg: x. From version 0.12, the only valid positional argument will be `data`, and passing other arguments without an explicit keyword will result in an error or misinterpretation.\n",
      "  warnings.warn(\n"
     ]
    },
    {
     "data": {
      "text/plain": [
       "<AxesSubplot:xlabel='cancer type', ylabel='count'>"
      ]
     },
     "execution_count": 6,
     "metadata": {},
     "output_type": "execute_result"
    },
    {
     "data": {
      "image/png": "[encoded data removed]",
      "text/plain": [
       "<Figure size 432x288 with 1 Axes>"
      ]
     },
     "metadata": {
      "needs_background": "light"
     },
     "output_type": "display_data"
    }
   ],
   "source": [
    "import seaborn as sns\n",
    "sns.countplot(df['cancer type'])"
   ]
  },
  {
   "cell_type": "code",
   "execution_count": 7,
   "metadata": {},
   "outputs": [
    {
     "name": "stdout",
     "output_type": "stream",
     "text": [
      "Total number of image: 1000\n"
     ]
    }
   ],
   "source": [
    "print('Total number of image:',len(df))"
   ]
  },
  {
   "cell_type": "code",
   "execution_count": 8,
   "metadata": {},
   "outputs": [
    {
     "name": "stdout",
     "output_type": "stream",
     "text": [
      "non-cancer    500\n",
      "cancer        500\n",
      "Name: cancer type, dtype: int64\n"
     ]
    }
   ],
   "source": [
    "oral_count = df['cancer type'].value_counts()\n",
    "print(oral_count)"
   ]
  },
  {
   "cell_type": "code",
   "execution_count": 9,
   "metadata": {},
   "outputs": [],
   "source": [
    "import cv2\n",
    "path = 'train/'\n",
    "im_size = 224\n",
    "images = []\n",
    "labels = []\n",
    "\n",
    "for i in dataset_path:\n",
    "    datapath = path+ str(i)\n",
    "    filenames = [i for i in os.listdir(datapath)]\n",
    "    \n",
    "    for f in filenames:\n",
    "        img = cv2.imread(datapath+'/'+ f)\n",
    "        img = cv2.resize(img,(im_size,im_size))\n",
    "        images.append(img)\n",
    "        labels.append(i)\n",
    "        "
   ]
  },
  {
   "cell_type": "code",
   "execution_count": null,
   "metadata": {},
   "outputs": [],
   "source": []
  },
  {
   "cell_type": "code",
   "execution_count": 10,
   "metadata": {},
   "outputs": [
    {
     "data": {
      "text/plain": [
       "(1000, 224, 224, 3)"
      ]
     },
     "execution_count": 10,
     "metadata": {},
     "output_type": "execute_result"
    }
   ],
   "source": [
    "images = np.array(images)\n",
    "images.shape"
   ]
  },
  {
   "cell_type": "code",
   "execution_count": 11,
   "metadata": {},
   "outputs": [],
   "source": [
    "images = images.astype('float32')/255.0"
   ]
  },
  {
   "cell_type": "code",
   "execution_count": 12,
   "metadata": {},
   "outputs": [
    {
     "name": "stdout",
     "output_type": "stream",
     "text": [
      "['cancer' 'cancer' 'cancer' 'cancer' 'cancer']\n"
     ]
    }
   ],
   "source": [
    "from sklearn.preprocessing import LabelEncoder, OneHotEncoder\n",
    "\n",
    "y = df['cancer type'].values\n",
    "print(y[:5])\n",
    "\n",
    "# for y\n",
    "# converting string label to numerical for label encoding is required\n",
    "\n",
    "y_labelencoder = LabelEncoder()\n",
    "y = y_labelencoder.fit_transform(y)\n",
    "\n"
   ]
  },
  {
   "cell_type": "code",
   "execution_count": 13,
   "metadata": {},
   "outputs": [
    {
     "data": {
      "text/plain": [
       "(1000, 2)"
      ]
     },
     "execution_count": 13,
     "metadata": {},
     "output_type": "execute_result"
    }
   ],
   "source": [
    "y = y.reshape(-1,1)\n",
    "onhot = OneHotEncoder()\n",
    "Y = onhot.fit_transform(y).todense()\n",
    "Y.shape"
   ]
  },
  {
   "cell_type": "markdown",
   "metadata": {},
   "source": [
    "# Train and test splitting"
   ]
  },
  {
   "cell_type": "code",
   "execution_count": 14,
   "metadata": {},
   "outputs": [
    {
     "name": "stdout",
     "output_type": "stream",
     "text": [
      "(980, 224, 224, 3)\n",
      "(20, 224, 224, 3)\n",
      "(980, 2)\n",
      "(20, 2)\n"
     ]
    }
   ],
   "source": [
    "from sklearn.utils import shuffle\n",
    "from sklearn.model_selection import train_test_split\n",
    "\n",
    "images,Y = shuffle(images,Y,random_state = 1)\n",
    "\n",
    "X_train,X_test,y_train,y_test = train_test_split(images,Y,test_size=20,random_state=415)\n",
    "\n",
    "print(X_train.shape)\n",
    "print(X_test.shape)\n",
    "print(y_train.shape)\n",
    "print(y_test.shape)"
   ]
  },
  {
   "cell_type": "code",
   "execution_count": 15,
   "metadata": {},
   "outputs": [],
   "source": [
    "num_classes = 2\n",
    "epochs = 25"
   ]
  },
  {
   "cell_type": "markdown",
   "metadata": {},
   "source": [
    "# Alexnet Architecture"
   ]
  },
  {
   "cell_type": "code",
   "execution_count": 16,
   "metadata": {},
   "outputs": [],
   "source": [
    "\n",
    "\n",
    "model = Sequential()\n",
    "  \n",
    "# 1st Convolutional Layer\n",
    "model.add(Conv2D(filters = 96, input_shape = (224, 224, 3), \n",
    "            kernel_size = (11, 11), strides = (4, 4), \n",
    "            padding = 'valid'))\n",
    "model.add(Activation('relu'))\n",
    "# Max-Pooling \n",
    "model.add(MaxPooling2D(pool_size = (2, 2),\n",
    "            strides = (2, 2), padding = 'valid'))\n",
    "# Batch Normalisation\n",
    "model.add(BatchNormalization())\n",
    "  \n",
    "# 2nd Convolutional Layer\n",
    "model.add(Conv2D(filters = 256, kernel_size = (11, 11), \n",
    "            strides = (1, 1), padding = 'valid'))\n",
    "model.add(Activation('relu'))\n",
    "# Max-Pooling\n",
    "model.add(MaxPooling2D(pool_size = (2, 2), strides = (2, 2), \n",
    "            padding = 'valid'))\n",
    "# Batch Normalisation\n",
    "model.add(BatchNormalization())\n",
    "  \n",
    "# 3rd Convolutional Layer\n",
    "model.add(Conv2D(filters = 384, kernel_size = (3, 3), \n",
    "            strides = (1, 1), padding = 'valid'))\n",
    "model.add(Activation('relu'))\n",
    "# Batch Normalisation\n",
    "model.add(BatchNormalization())\n",
    "  \n",
    "# 4th Convolutional Layer\n",
    "model.add(Conv2D(filters = 384, kernel_size = (3, 3), \n",
    "            strides = (1, 1), padding = 'valid'))\n",
    "model.add(Activation('relu'))\n",
    "# Batch Normalisation\n",
    "model.add(BatchNormalization())\n",
    "  \n",
    "# 5th Convolutional Layer\n",
    "model.add(Conv2D(filters = 256, kernel_size = (3, 3), \n",
    "            strides = (1, 1), padding = 'valid'))\n",
    "model.add(Activation('relu'))\n",
    "# Max-Pooling\n",
    "model.add(MaxPooling2D(pool_size = (2, 2), strides = (2, 2), \n",
    "            padding = 'valid'))\n",
    "# Batch Normalisation\n",
    "model.add(BatchNormalization())\n",
    "  \n",
    "# Flattening\n",
    "model.add(Flatten())\n",
    "  \n",
    "# 1st Dense Layer\n",
    "model.add(Dense(4096, input_shape = (224*224*3, )))\n",
    "model.add(Activation('relu'))\n",
    "# Add Dropout to prevent overfitting\n",
    "model.add(Dropout(0.4))\n",
    "# Batch Normalisation\n",
    "model.add(BatchNormalization())\n",
    "  \n",
    "# 2nd Dense Layer\n",
    "model.add(Dense(4096))\n",
    "model.add(Activation('relu'))\n",
    "# Add Dropoutmodel.fit(x_train, y_train, epochs=100)\n",
    "model.add(Dropout(0.4))\n",
    "# Batch Normalisation\n",
    "model.add(BatchNormalization())\n",
    "  \n",
    "# Output Softmax Layer\n",
    "model.add(Dense(num_classes))\n",
    "model.add(Activation('sigmoid'))"
   ]
  },
  {
   "cell_type": "code",
   "execution_count": 17,
   "metadata": {},
   "outputs": [],
   "source": [
    "from keras.optimizers import SGD\n",
    "optimizer = SGD(lr=0.0001,momentum=0.9,decay=1e-4/epochs)"
   ]
  },
  {
   "cell_type": "code",
   "execution_count": 18,
   "metadata": {},
   "outputs": [],
   "source": [
    "model.compile(loss=\"binary_crossentropy\",optimizer=optimizer,metrics=[\"accuracy\"])"
   ]
  },
  {
   "cell_type": "code",
   "execution_count": 21,
   "metadata": {},
   "outputs": [],
   "source": [
    "from tensorflow.keras.callbacks import EarlyStopping\n",
    "early_stopping = EarlyStopping(monitor='val_loss', \n",
    "    patience=4, \n",
    "    min_delta=0.001, \n",
    "    mode='max')"
   ]
  },
  {
   "cell_type": "markdown",
   "metadata": {},
   "source": [
    "# Train"
   ]
  },
  {
   "cell_type": "code",
   "execution_count": 34,
   "metadata": {
    "scrolled": true
   },
   "outputs": [
    {
     "name": "stdout",
     "output_type": "stream",
     "text": [
      "Epoch 1/25\n",
      "28/28 - 84s - loss: 0.0722 - accuracy: 0.9898 - val_loss: 0.6701 - val_accuracy: 0.5918\n",
      "Epoch 2/25\n",
      "28/28 - 100s - loss: 0.0527 - accuracy: 0.9921 - val_loss: 0.6853 - val_accuracy: 0.5714\n",
      "Epoch 3/25\n",
      "28/28 - 89s - loss: 0.0545 - accuracy: 0.9932 - val_loss: 0.6625 - val_accuracy: 0.5816\n",
      "Epoch 4/25\n",
      "28/28 - 77s - loss: 0.0539 - accuracy: 0.9898 - val_loss: 0.6613 - val_accuracy: 0.5918\n",
      "Epoch 5/25\n",
      "28/28 - 77s - loss: 0.0407 - accuracy: 0.9977 - val_loss: 0.6396 - val_accuracy: 0.6020\n",
      "Epoch 6/25\n",
      "28/28 - 78s - loss: 0.0390 - accuracy: 0.9921 - val_loss: 0.5296 - val_accuracy: 0.6837\n"
     ]
    }
   ],
   "source": [
    "history = model.fit(X_train,y_train, epochs=epochs,validation_split=0.1, \n",
    "    batch_size=32, \n",
    "    verbose=2,callbacks=[early_stopping])"
   ]
  },
  {
   "cell_type": "code",
   "execution_count": 50,
   "metadata": {},
   "outputs": [
    {
     "data": {
      "image/png": "[encoded data removed]",
      "text/plain": [
       "<Figure size 1080x576 with 2 Axes>"
      ]
     },
     "metadata": {
      "needs_background": "light"
     },
     "output_type": "display_data"
    }
   ],
   "source": [
    "plt.figure(1, figsize = (15,8)) \n",
    "    \n",
    "plt.subplot(221)  \n",
    "plt.plot(history.history['accuracy'])  \n",
    "plt.plot(history.history['val_accuracy'])  \n",
    "plt.title('model accuracy')  \n",
    "plt.ylabel('accuracy')  \n",
    "plt.xlabel('epoch')  \n",
    "plt.legend(['train', 'valid']) \n",
    "    \n",
    "plt.subplot(222)  \n",
    "plt.plot(history.history['loss'])  \n",
    "plt.plot(history.history['val_loss'])  \n",
    "plt.title('model loss')  \n",
    "plt.ylabel('loss')  \n",
    "plt.xlabel('epoch')  \n",
    "plt.legend(['train', 'valid']) \n",
    "\n",
    "plt.show()"
   ]
  },
  {
   "cell_type": "code",
   "execution_count": 35,
   "metadata": {},
   "outputs": [
    {
     "name": "stdout",
     "output_type": "stream",
     "text": [
      "1/1 [==============================] - 0s 405ms/step - loss: 0.6702 - accuracy: 0.6000\n",
      "0.6702011823654175 0.6000000238418579\n"
     ]
    }
   ],
   "source": [
    "loss, accuracy = model.evaluate(X_test, y_test)\n",
    "\n",
    "print(loss,accuracy)"
   ]
  },
  {
   "cell_type": "markdown",
   "metadata": {},
   "source": [
    "# Prediction"
   ]
  },
  {
   "cell_type": "code",
   "execution_count": 36,
   "metadata": {},
   "outputs": [
    {
     "data": {
      "text/plain": [
       "(20, 2)"
      ]
     },
     "execution_count": 36,
     "metadata": {},
     "output_type": "execute_result"
    }
   ],
   "source": [
    "pred = model.predict(X_test)\n",
    "pred.shape"
   ]
  },
  {
   "cell_type": "code",
   "execution_count": 37,
   "metadata": {},
   "outputs": [
    {
     "data": {
      "text/plain": [
       "array([[0.41336635, 0.7705829 ],\n",
       "       [0.03758478, 0.98417854],\n",
       "       [0.05566257, 0.9724822 ],\n",
       "       [0.2769001 , 0.8749145 ],\n",
       "       [0.5932497 , 0.6852931 ],\n",
       "       [0.2932809 , 0.84623337],\n",
       "       [0.53578925, 0.52103513],\n",
       "       [0.23603198, 0.96980274],\n",
       "       [0.04915696, 0.9839785 ],\n",
       "       [0.04915696, 0.9839785 ],\n",
       "       [0.47909218, 0.8233625 ],\n",
       "       [0.5232273 , 0.7030401 ],\n",
       "       [0.4779654 , 0.78024685],\n",
       "       [0.73345405, 0.64579374],\n",
       "       [0.78260255, 0.52478945],\n",
       "       [0.0536527 , 0.9845152 ],\n",
       "       [0.0670163 , 0.97077334],\n",
       "       [0.63200426, 0.7413197 ],\n",
       "       [0.08738747, 0.9700788 ],\n",
       "       [0.23049107, 0.898584  ]], dtype=float32)"
      ]
     },
     "execution_count": 37,
     "metadata": {},
     "output_type": "execute_result"
    }
   ],
   "source": [
    "pred"
   ]
  },
  {
   "cell_type": "code",
   "execution_count": 51,
   "metadata": {},
   "outputs": [],
   "source": [
    "model.save(\"Model_AlexNet.h5\")"
   ]
  },
  {
   "cell_type": "markdown",
   "metadata": {},
   "source": [
    "# Testing"
   ]
  },
  {
   "cell_type": "code",
   "execution_count": null,
   "metadata": {},
   "outputs": [],
   "source": [
    "from keras.models import load_model\n",
    "from collections import deque\n",
    "import numpy as np\n",
    "import pickle\n",
    "import cv2\n",
    "import matplotlib.pyplot as plt"
   ]
  },
  {
   "cell_type": "code",
   "execution_count": null,
   "metadata": {},
   "outputs": [],
   "source": [
    "model = load_model('Model_AlexNet.h5')"
   ]
  },
  {
   "cell_type": "code",
   "execution_count": 48,
   "metadata": {},
   "outputs": [
    {
     "name": "stdout",
     "output_type": "stream",
     "text": [
      "1\n"
     ]
    }
   ],
   "source": [
    "from keras.preprocessing import image\n",
    "# from tkinter.filedialog import askopenfile\n",
    "# file = askopenfile(mode='r',filetypes=[('All files','*.jpg')])\n",
    "# image1 = cv2.imread(str(file.name))\n",
    "image1 = cv2.imread(r'E:\\berlin\\Oral cancer\\train\\non-cancer\\69293_mouth-exam-child-iStock-510174422.jpg_ccba64ac-3050-4b37-9641-ca94b3db2c11 - Copy - Copy (4).jpeg')\n",
    "imag = cv2.resize(image1, (224,224))\n",
    "x = image.img_to_array(imag)\n",
    "x = np.expand_dims(x,axis=0)\n",
    "images = np.vstack([x])\n",
    "#model = load_model('my_model_v1.h5')\n",
    "classes = model.predict_classes(images,batch_size=32)[0]\n",
    "print(classes)"
   ]
  },
  {
   "cell_type": "code",
   "execution_count": 52,
   "metadata": {},
   "outputs": [
    {
     "data": {
      "text/plain": [
       "'Non cancer'"
      ]
     },
     "execution_count": 52,
     "metadata": {},
     "output_type": "execute_result"
    }
   ],
   "source": [
    "dict = {0:'cancer',1:'Non cancer'}\n",
    "dict.get(classes)"
   ]
  },
  {
   "cell_type": "code",
   "execution_count": 54,
   "metadata": {},
   "outputs": [
    {
     "data": {
      "image/png": "[encoded data removed]",
      "text/plain": [
       "<Figure size 432x288 with 1 Axes>"
      ]
     },
     "metadata": {
      "needs_background": "light"
     },
     "output_type": "display_data"
    }
   ],
   "source": [
    "cv2.putText(image1,str(dict.get(classes)),(45,60),cv2.FONT_HERSHEY_SIMPLEX,1.25,(255,0,0),5)  \n",
    "plt.imshow(image1)\n",
    "plt.show()"
   ]
  },
  {
   "cell_type": "code",
   "execution_count": null,
   "metadata": {},
   "outputs": [],
   "source": []
  }
 ],
 "metadata": {
  "kernelspec": {
   "display_name": "Python 3",
   "language": "python",
   "name": "python3"
  },
  "language_info": {
   "codemirror_mode": {
    "name": "ipython",
    "version": 3
   },
   "file_extension": ".py",
   "mimetype": "text/x-python",
   "name": "python",
   "nbconvert_exporter": "python",
   "pygments_lexer": "ipython3",
   "version": "3.8.5"
  }
 },
 "nbformat": 4,
 "nbformat_minor": 4
}
